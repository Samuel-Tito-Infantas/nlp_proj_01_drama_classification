{
 "cells": [
  {
   "cell_type": "markdown",
   "id": "21a5d78b",
   "metadata": {},
   "source": [
    "## Classification NLP model "
   ]
  },
  {
   "cell_type": "markdown",
   "id": "b2425c87",
   "metadata": {},
   "source": [
    "#### Import lib"
   ]
  },
  {
   "cell_type": "code",
   "execution_count": 23,
   "id": "62529c12-e7c1-43e2-96ee-26b1cc789ea0",
   "metadata": {},
   "outputs": [
    {
     "name": "stderr",
     "output_type": "stream",
     "text": [
      "[nltk_data] Downloading package stopwords to /home/samuel/nltk_data...\n",
      "[nltk_data]   Package stopwords is already up-to-date!\n"
     ]
    }
   ],
   "source": [
    "import pandas as pd\n",
    "import numpy as np\n",
    "import csv\n",
    "import json\n",
    "import json\n",
    "\n",
    "\n",
    "\n",
    "# Preprocessing text\n",
    "from tqdm import tqdm\n",
    "import nltk\n",
    "import re\n",
    "nltk.download('stopwords')\n",
    "from nltk.corpus import stopwords\n",
    "from sklearn.preprocessing import MultiLabelBinarizer\n",
    "from sklearn.feature_extraction.text import TfidfVectorizer\n",
    "\n",
    "# ML libs\n",
    "from sklearn.model_selection import train_test_split\n",
    "from sklearn.linear_model import LogisticRegression\n",
    "from sklearn.multiclass import OneVsRestClassifier # Binary Relevance\n",
    "from sklearn.metrics import f1_score # Performance metric\n",
    "\n",
    "\n",
    "# plot libs\n",
    "import matplotlib.pyplot as plt\n",
    "import seaborn as sns\n",
    "\n",
    "\n",
    "\n",
    "\n",
    "#import string\n",
    "#from wordcloud import WordCloud, STOPWORDS\n",
    "#from sklearn.feature_extraction.text import CountVectorizer, TfidfVectorizer\n",
    "#import nltk\n",
    "#nltk.download('wordnet')\n",
    "#from nltk.stem import WordNetLemmatizer\n",
    "#\n",
    "#\n",
    "#from sklearn.naive_bayes import MultinomialNB\n",
    "#from sklearn.tree import DecisionTreeClassifier\n",
    "#from sklearn.model_selection import train_test_split\n",
    "#from sklearn.metrics import confusion_matrix, classification_report\n",
    "#\n",
    "#\n",
    "#import warnings\n",
    "#import scipy\n",
    "#from datetime import timedelta\n",
    "#\n",
    "## Forceasting with decompasable model\n",
    "#from pylab import rcParams\n",
    "#import statsmodels.api as sm\n",
    "#from statsmodels.tsa.stattools import adfuller\n",
    "#\n",
    "## For marchine Learning Approach\n",
    "#from statsmodels.tsa.tsatools import lagmat\n",
    "#from sklearn.linear_model import LinearRegression, RidgeCV\n",
    "#from sklearn.ensemble import RandomForestRegressor\n",
    "#from sklearn.metrics import r2_score\n",
    "#\n",
    "## Visualisation\n",
    "#import matplotlib.pyplot as plt\n",
    "#import seaborn as sns\n",
    "#\n",
    "#plt.style.use('fivethirtyeight')\n",
    "#\n",
    "#warnings.filterwarnings('ignore')"
   ]
  },
  {
   "cell_type": "code",
   "execution_count": 3,
   "id": "fcc167fd",
   "metadata": {},
   "outputs": [],
   "source": [
    "#!pip install re\n",
    "#import  as sns"
   ]
  },
  {
   "cell_type": "markdown",
   "id": "f663e17a",
   "metadata": {},
   "source": [
    "#### Carregando a informação"
   ]
  },
  {
   "cell_type": "code",
   "execution_count": 4,
   "id": "45d78a09",
   "metadata": {},
   "outputs": [
    {
     "data": {
      "text/html": [
       "<div>\n",
       "<style scoped>\n",
       "    .dataframe tbody tr th:only-of-type {\n",
       "        vertical-align: middle;\n",
       "    }\n",
       "\n",
       "    .dataframe tbody tr th {\n",
       "        vertical-align: top;\n",
       "    }\n",
       "\n",
       "    .dataframe thead th {\n",
       "        text-align: right;\n",
       "    }\n",
       "</style>\n",
       "<table border=\"1\" class=\"dataframe\">\n",
       "  <thead>\n",
       "    <tr style=\"text-align: right;\">\n",
       "      <th></th>\n",
       "      <th>movie_id</th>\n",
       "      <th>1</th>\n",
       "      <th>movie_name</th>\n",
       "      <th>3</th>\n",
       "      <th>4</th>\n",
       "      <th>5</th>\n",
       "      <th>6</th>\n",
       "      <th>7</th>\n",
       "      <th>genre</th>\n",
       "    </tr>\n",
       "  </thead>\n",
       "  <tbody>\n",
       "    <tr>\n",
       "      <th>0</th>\n",
       "      <td>975900</td>\n",
       "      <td>/m/03vyhn</td>\n",
       "      <td>Ghosts of Mars</td>\n",
       "      <td>2001-08-24</td>\n",
       "      <td>14010832.0</td>\n",
       "      <td>98.0</td>\n",
       "      <td>{\"/m/02h40lc\": \"English Language\"}</td>\n",
       "      <td>{\"/m/09c7w0\": \"United States of America\"}</td>\n",
       "      <td>{\"/m/01jfsb\": \"Thriller\", \"/m/06n90\": \"Science...</td>\n",
       "    </tr>\n",
       "    <tr>\n",
       "      <th>1</th>\n",
       "      <td>3196793</td>\n",
       "      <td>/m/08yl5d</td>\n",
       "      <td>Getting Away with Murder: The JonBenét Ramsey ...</td>\n",
       "      <td>2000-02-16</td>\n",
       "      <td>NaN</td>\n",
       "      <td>95.0</td>\n",
       "      <td>{\"/m/02h40lc\": \"English Language\"}</td>\n",
       "      <td>{\"/m/09c7w0\": \"United States of America\"}</td>\n",
       "      <td>{\"/m/02n4kr\": \"Mystery\", \"/m/03bxz7\": \"Biograp...</td>\n",
       "    </tr>\n",
       "    <tr>\n",
       "      <th>2</th>\n",
       "      <td>28463795</td>\n",
       "      <td>/m/0crgdbh</td>\n",
       "      <td>Brun bitter</td>\n",
       "      <td>1988</td>\n",
       "      <td>NaN</td>\n",
       "      <td>83.0</td>\n",
       "      <td>{\"/m/05f_3\": \"Norwegian Language\"}</td>\n",
       "      <td>{\"/m/05b4w\": \"Norway\"}</td>\n",
       "      <td>{\"/m/0lsxr\": \"Crime Fiction\", \"/m/07s9rl0\": \"D...</td>\n",
       "    </tr>\n",
       "    <tr>\n",
       "      <th>3</th>\n",
       "      <td>9363483</td>\n",
       "      <td>/m/0285_cd</td>\n",
       "      <td>White Of The Eye</td>\n",
       "      <td>1987</td>\n",
       "      <td>NaN</td>\n",
       "      <td>110.0</td>\n",
       "      <td>{\"/m/02h40lc\": \"English Language\"}</td>\n",
       "      <td>{\"/m/07ssc\": \"United Kingdom\"}</td>\n",
       "      <td>{\"/m/01jfsb\": \"Thriller\", \"/m/0glj9q\": \"Erotic...</td>\n",
       "    </tr>\n",
       "    <tr>\n",
       "      <th>4</th>\n",
       "      <td>261236</td>\n",
       "      <td>/m/01mrr1</td>\n",
       "      <td>A Woman in Flames</td>\n",
       "      <td>1983</td>\n",
       "      <td>NaN</td>\n",
       "      <td>106.0</td>\n",
       "      <td>{\"/m/04306rv\": \"German Language\"}</td>\n",
       "      <td>{\"/m/0345h\": \"Germany\"}</td>\n",
       "      <td>{\"/m/07s9rl0\": \"Drama\"}</td>\n",
       "    </tr>\n",
       "  </tbody>\n",
       "</table>\n",
       "</div>"
      ],
      "text/plain": [
       "   movie_id           1                                         movie_name  \\\n",
       "0    975900   /m/03vyhn                                     Ghosts of Mars   \n",
       "1   3196793   /m/08yl5d  Getting Away with Murder: The JonBenét Ramsey ...   \n",
       "2  28463795  /m/0crgdbh                                        Brun bitter   \n",
       "3   9363483  /m/0285_cd                                   White Of The Eye   \n",
       "4    261236   /m/01mrr1                                  A Woman in Flames   \n",
       "\n",
       "            3           4      5                                   6  \\\n",
       "0  2001-08-24  14010832.0   98.0  {\"/m/02h40lc\": \"English Language\"}   \n",
       "1  2000-02-16         NaN   95.0  {\"/m/02h40lc\": \"English Language\"}   \n",
       "2        1988         NaN   83.0  {\"/m/05f_3\": \"Norwegian Language\"}   \n",
       "3        1987         NaN  110.0  {\"/m/02h40lc\": \"English Language\"}   \n",
       "4        1983         NaN  106.0   {\"/m/04306rv\": \"German Language\"}   \n",
       "\n",
       "                                           7  \\\n",
       "0  {\"/m/09c7w0\": \"United States of America\"}   \n",
       "1  {\"/m/09c7w0\": \"United States of America\"}   \n",
       "2                     {\"/m/05b4w\": \"Norway\"}   \n",
       "3             {\"/m/07ssc\": \"United Kingdom\"}   \n",
       "4                    {\"/m/0345h\": \"Germany\"}   \n",
       "\n",
       "                                               genre  \n",
       "0  {\"/m/01jfsb\": \"Thriller\", \"/m/06n90\": \"Science...  \n",
       "1  {\"/m/02n4kr\": \"Mystery\", \"/m/03bxz7\": \"Biograp...  \n",
       "2  {\"/m/0lsxr\": \"Crime Fiction\", \"/m/07s9rl0\": \"D...  \n",
       "3  {\"/m/01jfsb\": \"Thriller\", \"/m/0glj9q\": \"Erotic...  \n",
       "4                            {\"/m/07s9rl0\": \"Drama\"}  "
      ]
     },
     "execution_count": 4,
     "metadata": {},
     "output_type": "execute_result"
    }
   ],
   "source": [
    "# DF 01: Gener Dataset\n",
    "path = \"./data_base/movie.metadata.tsv\"\n",
    "df_raw = pd.read_csv(path, sep = '\\t', header = None)\n",
    "df_raw.columns = [\"movie_id\",1,\"movie_name\",3,4,5,6,7,\"genre\"]\n",
    "df_raw.head(5)"
   ]
  },
  {
   "cell_type": "code",
   "execution_count": 5,
   "id": "c0ef2995",
   "metadata": {},
   "outputs": [
    {
     "name": "stderr",
     "output_type": "stream",
     "text": [
      "42303it [00:00, 47590.69it/s]\n"
     ]
    }
   ],
   "source": [
    "# DF 02: Summaries \n",
    "\n",
    "plots = []\n",
    "\n",
    "path_02 = \"./data_base/plot_summaries.txt\"\n",
    "with open(path_02, 'r') as f:\n",
    "    reader = csv.reader(f, dialect=\"excel-tab\")\n",
    "    for row in tqdm(reader):\n",
    "        plots.append(row)"
   ]
  },
  {
   "cell_type": "code",
   "execution_count": 6,
   "id": "0ea41c5f",
   "metadata": {},
   "outputs": [
    {
     "name": "stderr",
     "output_type": "stream",
     "text": [
      "100%|██████████| 42303/42303 [00:00<00:00, 1481201.46it/s]\n"
     ]
    },
    {
     "data": {
      "text/html": [
       "<div>\n",
       "<style scoped>\n",
       "    .dataframe tbody tr th:only-of-type {\n",
       "        vertical-align: middle;\n",
       "    }\n",
       "\n",
       "    .dataframe tbody tr th {\n",
       "        vertical-align: top;\n",
       "    }\n",
       "\n",
       "    .dataframe thead th {\n",
       "        text-align: right;\n",
       "    }\n",
       "</style>\n",
       "<table border=\"1\" class=\"dataframe\">\n",
       "  <thead>\n",
       "    <tr style=\"text-align: right;\">\n",
       "      <th></th>\n",
       "      <th>movie_id</th>\n",
       "      <th>summary</th>\n",
       "    </tr>\n",
       "  </thead>\n",
       "  <tbody>\n",
       "    <tr>\n",
       "      <th>0</th>\n",
       "      <td>23890098</td>\n",
       "      <td>Shlykov, a hard-working taxi driver and Lyosha...</td>\n",
       "    </tr>\n",
       "    <tr>\n",
       "      <th>1</th>\n",
       "      <td>31186339</td>\n",
       "      <td>The nation of Panem consists of a wealthy Capi...</td>\n",
       "    </tr>\n",
       "    <tr>\n",
       "      <th>2</th>\n",
       "      <td>20663735</td>\n",
       "      <td>Poovalli Induchoodan  is sentenced for six yea...</td>\n",
       "    </tr>\n",
       "    <tr>\n",
       "      <th>3</th>\n",
       "      <td>2231378</td>\n",
       "      <td>The Lemon Drop Kid , a New York City swindler,...</td>\n",
       "    </tr>\n",
       "    <tr>\n",
       "      <th>4</th>\n",
       "      <td>595909</td>\n",
       "      <td>Seventh-day Adventist Church pastor Michael Ch...</td>\n",
       "    </tr>\n",
       "  </tbody>\n",
       "</table>\n",
       "</div>"
      ],
      "text/plain": [
       "   movie_id                                            summary\n",
       "0  23890098  Shlykov, a hard-working taxi driver and Lyosha...\n",
       "1  31186339  The nation of Panem consists of a wealthy Capi...\n",
       "2  20663735  Poovalli Induchoodan  is sentenced for six yea...\n",
       "3   2231378  The Lemon Drop Kid , a New York City swindler,...\n",
       "4    595909  Seventh-day Adventist Church pastor Michael Ch..."
      ]
     },
     "execution_count": 6,
     "metadata": {},
     "output_type": "execute_result"
    }
   ],
   "source": [
    "## Separete the two object of the list and create a df\n",
    "\n",
    "movie_id = []\n",
    "plot = []\n",
    "\n",
    "for _ in tqdm(plots):\n",
    "    movie_id.append(_[0])\n",
    "    plot.append(_[1])\n",
    "\n",
    "summary_df = pd.DataFrame({'movie_id': movie_id\n",
    "                         ,'summary': plot})\n",
    "\n",
    "summary_df.head()"
   ]
  },
  {
   "cell_type": "code",
   "execution_count": 7,
   "id": "3116f2ac",
   "metadata": {},
   "outputs": [
    {
     "name": "stdout",
     "output_type": "stream",
     "text": [
      "movie_id        int64\n",
      "1              object\n",
      "movie_name     object\n",
      "3              object\n",
      "4             float64\n",
      "5             float64\n",
      "6              object\n",
      "7              object\n",
      "genre          object\n",
      "dtype: object \n",
      "\n",
      " movie_id    object\n",
      "summary     object\n",
      "dtype: object \n",
      "\n",
      "\n"
     ]
    },
    {
     "data": {
      "text/html": [
       "<div>\n",
       "<style scoped>\n",
       "    .dataframe tbody tr th:only-of-type {\n",
       "        vertical-align: middle;\n",
       "    }\n",
       "\n",
       "    .dataframe tbody tr th {\n",
       "        vertical-align: top;\n",
       "    }\n",
       "\n",
       "    .dataframe thead th {\n",
       "        text-align: right;\n",
       "    }\n",
       "</style>\n",
       "<table border=\"1\" class=\"dataframe\">\n",
       "  <thead>\n",
       "    <tr style=\"text-align: right;\">\n",
       "      <th></th>\n",
       "      <th>movie_id</th>\n",
       "      <th>summary</th>\n",
       "      <th>movie_name</th>\n",
       "      <th>genre</th>\n",
       "    </tr>\n",
       "  </thead>\n",
       "  <tbody>\n",
       "    <tr>\n",
       "      <th>0</th>\n",
       "      <td>23890098</td>\n",
       "      <td>Shlykov, a hard-working taxi driver and Lyosha...</td>\n",
       "      <td>Taxi Blues</td>\n",
       "      <td>{\"/m/07s9rl0\": \"Drama\", \"/m/03q4nz\": \"World ci...</td>\n",
       "    </tr>\n",
       "    <tr>\n",
       "      <th>1</th>\n",
       "      <td>31186339</td>\n",
       "      <td>The nation of Panem consists of a wealthy Capi...</td>\n",
       "      <td>The Hunger Games</td>\n",
       "      <td>{\"/m/03btsm8\": \"Action/Adventure\", \"/m/06n90\":...</td>\n",
       "    </tr>\n",
       "    <tr>\n",
       "      <th>2</th>\n",
       "      <td>20663735</td>\n",
       "      <td>Poovalli Induchoodan  is sentenced for six yea...</td>\n",
       "      <td>Narasimham</td>\n",
       "      <td>{\"/m/04t36\": \"Musical\", \"/m/02kdv5l\": \"Action\"...</td>\n",
       "    </tr>\n",
       "    <tr>\n",
       "      <th>3</th>\n",
       "      <td>2231378</td>\n",
       "      <td>The Lemon Drop Kid , a New York City swindler,...</td>\n",
       "      <td>The Lemon Drop Kid</td>\n",
       "      <td>{\"/m/06qm3\": \"Screwball comedy\", \"/m/01z4y\": \"...</td>\n",
       "    </tr>\n",
       "    <tr>\n",
       "      <th>4</th>\n",
       "      <td>595909</td>\n",
       "      <td>Seventh-day Adventist Church pastor Michael Ch...</td>\n",
       "      <td>A Cry in the Dark</td>\n",
       "      <td>{\"/m/0lsxr\": \"Crime Fiction\", \"/m/07s9rl0\": \"D...</td>\n",
       "    </tr>\n",
       "  </tbody>\n",
       "</table>\n",
       "</div>"
      ],
      "text/plain": [
       "   movie_id                                            summary  \\\n",
       "0  23890098  Shlykov, a hard-working taxi driver and Lyosha...   \n",
       "1  31186339  The nation of Panem consists of a wealthy Capi...   \n",
       "2  20663735  Poovalli Induchoodan  is sentenced for six yea...   \n",
       "3   2231378  The Lemon Drop Kid , a New York City swindler,...   \n",
       "4    595909  Seventh-day Adventist Church pastor Michael Ch...   \n",
       "\n",
       "           movie_name                                              genre  \n",
       "0          Taxi Blues  {\"/m/07s9rl0\": \"Drama\", \"/m/03q4nz\": \"World ci...  \n",
       "1    The Hunger Games  {\"/m/03btsm8\": \"Action/Adventure\", \"/m/06n90\":...  \n",
       "2          Narasimham  {\"/m/04t36\": \"Musical\", \"/m/02kdv5l\": \"Action\"...  \n",
       "3  The Lemon Drop Kid  {\"/m/06qm3\": \"Screwball comedy\", \"/m/01z4y\": \"...  \n",
       "4   A Cry in the Dark  {\"/m/0lsxr\": \"Crime Fiction\", \"/m/07s9rl0\": \"D...  "
      ]
     },
     "execution_count": 7,
     "metadata": {},
     "output_type": "execute_result"
    }
   ],
   "source": [
    "## Check id types\n",
    "print(df_raw.dtypes, \"\\n\"*2, summary_df.dtypes, \"\\n\"*2) \n",
    "\n",
    "df_raw['movie_id'] = df_raw['movie_id'].apply(str)\n",
    "\n",
    "## merge df \n",
    "summary_df = pd.merge(summary_df,df_raw[['movie_id', 'movie_name', 'genre']],on = 'movie_id')\n",
    "\n",
    "summary_df.head()"
   ]
  },
  {
   "cell_type": "code",
   "execution_count": 8,
   "id": "c1102e96",
   "metadata": {},
   "outputs": [
    {
     "data": {
      "text/html": [
       "<div>\n",
       "<style scoped>\n",
       "    .dataframe tbody tr th:only-of-type {\n",
       "        vertical-align: middle;\n",
       "    }\n",
       "\n",
       "    .dataframe tbody tr th {\n",
       "        vertical-align: top;\n",
       "    }\n",
       "\n",
       "    .dataframe thead th {\n",
       "        text-align: right;\n",
       "    }\n",
       "</style>\n",
       "<table border=\"1\" class=\"dataframe\">\n",
       "  <thead>\n",
       "    <tr style=\"text-align: right;\">\n",
       "      <th></th>\n",
       "      <th>movie_id</th>\n",
       "      <th>summary</th>\n",
       "      <th>movie_name</th>\n",
       "      <th>genre</th>\n",
       "    </tr>\n",
       "  </thead>\n",
       "  <tbody>\n",
       "    <tr>\n",
       "      <th>33003</th>\n",
       "      <td>15644478</td>\n",
       "      <td>On graduation day at Buffalo Glenn High School...</td>\n",
       "      <td>I Love You Beth Cooper</td>\n",
       "      <td>{\"/m/06cvj\": \"Romantic comedy\", \"/m/02l7c8\": \"...</td>\n",
       "    </tr>\n",
       "    <tr>\n",
       "      <th>12172</th>\n",
       "      <td>30146066</td>\n",
       "      <td>Officer Dave Brown  has two ex-wives who are s...</td>\n",
       "      <td>Rampart</td>\n",
       "      <td>{\"/m/01rbb\": \"Crime\", \"/m/07s9rl0\": \"Drama\"}</td>\n",
       "    </tr>\n",
       "    <tr>\n",
       "      <th>5192</th>\n",
       "      <td>6046099</td>\n",
       "      <td>Abel Marsh is a sarcastic, thick-skinned polic...</td>\n",
       "      <td>They Only Kill Their Masters</td>\n",
       "      <td>{\"/m/0lsxr\": \"Crime Fiction\", \"/m/02n4kr\": \"My...</td>\n",
       "    </tr>\n",
       "    <tr>\n",
       "      <th>32511</th>\n",
       "      <td>5049873</td>\n",
       "      <td>In 1941, one year after Italy joined Germany a...</td>\n",
       "      <td>Mediterraneo</td>\n",
       "      <td>{\"/m/06cvj\": \"Romantic comedy\", \"/m/03q4nz\": \"...</td>\n",
       "    </tr>\n",
       "    <tr>\n",
       "      <th>7813</th>\n",
       "      <td>6049239</td>\n",
       "      <td>Jasper Bloodshy  runs the rough-and-tumble tow...</td>\n",
       "      <td>Hot Lead and Cold Feet</td>\n",
       "      <td>{\"/m/03btsm8\": \"Action/Adventure\", \"/m/0hfjk\":...</td>\n",
       "    </tr>\n",
       "    <tr>\n",
       "      <th>...</th>\n",
       "      <td>...</td>\n",
       "      <td>...</td>\n",
       "      <td>...</td>\n",
       "      <td>...</td>\n",
       "    </tr>\n",
       "    <tr>\n",
       "      <th>4730</th>\n",
       "      <td>142837</td>\n",
       "      <td>Pierre Mirande , is a Venetian tour guide from...</td>\n",
       "      <td>The Big Pond</td>\n",
       "      <td>{\"/m/04t36\": \"Musical\", \"/m/06cvj\": \"Romantic ...</td>\n",
       "    </tr>\n",
       "    <tr>\n",
       "      <th>8272</th>\n",
       "      <td>31811425</td>\n",
       "      <td>The real Darna  in the Darna, Kuno? storyline ...</td>\n",
       "      <td>Darna, Kuno?</td>\n",
       "      <td>{\"/m/0gf28\": \"Parody\"}</td>\n",
       "    </tr>\n",
       "    <tr>\n",
       "      <th>38180</th>\n",
       "      <td>7055021</td>\n",
       "      <td>Lucky Coffee Shop is well known for its egg ta...</td>\n",
       "      <td>The Lucky Guy</td>\n",
       "      <td>{\"/m/06cvj\": \"Romantic comedy\", \"/m/07s9rl0\": ...</td>\n",
       "    </tr>\n",
       "    <tr>\n",
       "      <th>18648</th>\n",
       "      <td>393505</td>\n",
       "      <td>Guitarist Steve Jones plays a detective who - ...</td>\n",
       "      <td>The Great Rock 'n' Roll Swindle</td>\n",
       "      <td>{\"/m/05r6t\": \"Punk rock\", \"/m/017fp\": \"Biograp...</td>\n",
       "    </tr>\n",
       "    <tr>\n",
       "      <th>36520</th>\n",
       "      <td>15150993</td>\n",
       "      <td>Iberia Parish Sheriff's Detective Dave Robiche...</td>\n",
       "      <td>In the Electric Mist</td>\n",
       "      <td>{\"/m/01jfsb\": \"Thriller\", \"/m/028v3\": \"Detecti...</td>\n",
       "    </tr>\n",
       "  </tbody>\n",
       "</table>\n",
       "<p>16882 rows × 4 columns</p>\n",
       "</div>"
      ],
      "text/plain": [
       "       movie_id                                            summary  \\\n",
       "33003  15644478  On graduation day at Buffalo Glenn High School...   \n",
       "12172  30146066  Officer Dave Brown  has two ex-wives who are s...   \n",
       "5192    6046099  Abel Marsh is a sarcastic, thick-skinned polic...   \n",
       "32511   5049873  In 1941, one year after Italy joined Germany a...   \n",
       "7813    6049239  Jasper Bloodshy  runs the rough-and-tumble tow...   \n",
       "...         ...                                                ...   \n",
       "4730     142837  Pierre Mirande , is a Venetian tour guide from...   \n",
       "8272   31811425  The real Darna  in the Darna, Kuno? storyline ...   \n",
       "38180   7055021  Lucky Coffee Shop is well known for its egg ta...   \n",
       "18648    393505  Guitarist Steve Jones plays a detective who - ...   \n",
       "36520  15150993  Iberia Parish Sheriff's Detective Dave Robiche...   \n",
       "\n",
       "                            movie_name  \\\n",
       "33003           I Love You Beth Cooper   \n",
       "12172                          Rampart   \n",
       "5192      They Only Kill Their Masters   \n",
       "32511                     Mediterraneo   \n",
       "7813            Hot Lead and Cold Feet   \n",
       "...                                ...   \n",
       "4730                      The Big Pond   \n",
       "8272                      Darna, Kuno?   \n",
       "38180                    The Lucky Guy   \n",
       "18648  The Great Rock 'n' Roll Swindle   \n",
       "36520             In the Electric Mist   \n",
       "\n",
       "                                                   genre  \n",
       "33003  {\"/m/06cvj\": \"Romantic comedy\", \"/m/02l7c8\": \"...  \n",
       "12172       {\"/m/01rbb\": \"Crime\", \"/m/07s9rl0\": \"Drama\"}  \n",
       "5192   {\"/m/0lsxr\": \"Crime Fiction\", \"/m/02n4kr\": \"My...  \n",
       "32511  {\"/m/06cvj\": \"Romantic comedy\", \"/m/03q4nz\": \"...  \n",
       "7813   {\"/m/03btsm8\": \"Action/Adventure\", \"/m/0hfjk\":...  \n",
       "...                                                  ...  \n",
       "4730   {\"/m/04t36\": \"Musical\", \"/m/06cvj\": \"Romantic ...  \n",
       "8272                              {\"/m/0gf28\": \"Parody\"}  \n",
       "38180  {\"/m/06cvj\": \"Romantic comedy\", \"/m/07s9rl0\": ...  \n",
       "18648  {\"/m/05r6t\": \"Punk rock\", \"/m/017fp\": \"Biograp...  \n",
       "36520  {\"/m/01jfsb\": \"Thriller\", \"/m/028v3\": \"Detecti...  \n",
       "\n",
       "[16882 rows x 4 columns]"
      ]
     },
     "execution_count": 8,
     "metadata": {},
     "output_type": "execute_result"
    }
   ],
   "source": [
    "# Sampling dataset\n",
    "\n",
    "summary_df.sample(frac=0.4, replace=True, random_state=1)"
   ]
  },
  {
   "cell_type": "code",
   "execution_count": 9,
   "id": "ad571d87",
   "metadata": {},
   "outputs": [
    {
     "name": "stdout",
     "output_type": "stream",
     "text": [
      "{\"/m/07s9rl0\": \"Drama\", \"/m/03q4nz\": \"World cinema\"} \n",
      " <class 'dict'> \n",
      "\n"
     ]
    }
   ],
   "source": [
    "# Check target information\n",
    "\n",
    "print(summary_df['genre'][0],'\\n'\n",
    "     ,type(json.loads(summary_df['genre'][0])),'\\n'\n",
    "     #,json.loads(summary_df['genre'][0].values()),'/n'\n",
    "     )"
   ]
  },
  {
   "cell_type": "code",
   "execution_count": 10,
   "id": "36a8058e",
   "metadata": {},
   "outputs": [
    {
     "data": {
      "text/html": [
       "<div>\n",
       "<style scoped>\n",
       "    .dataframe tbody tr th:only-of-type {\n",
       "        vertical-align: middle;\n",
       "    }\n",
       "\n",
       "    .dataframe tbody tr th {\n",
       "        vertical-align: top;\n",
       "    }\n",
       "\n",
       "    .dataframe thead th {\n",
       "        text-align: right;\n",
       "    }\n",
       "</style>\n",
       "<table border=\"1\" class=\"dataframe\">\n",
       "  <thead>\n",
       "    <tr style=\"text-align: right;\">\n",
       "      <th></th>\n",
       "      <th>movie_id</th>\n",
       "      <th>summary</th>\n",
       "      <th>movie_name</th>\n",
       "      <th>genre</th>\n",
       "      <th>genre_list</th>\n",
       "    </tr>\n",
       "  </thead>\n",
       "  <tbody>\n",
       "    <tr>\n",
       "      <th>0</th>\n",
       "      <td>23890098</td>\n",
       "      <td>Shlykov, a hard-working taxi driver and Lyosha...</td>\n",
       "      <td>Taxi Blues</td>\n",
       "      <td>{\"/m/07s9rl0\": \"Drama\", \"/m/03q4nz\": \"World ci...</td>\n",
       "      <td>[Drama, World cinema]</td>\n",
       "    </tr>\n",
       "    <tr>\n",
       "      <th>1</th>\n",
       "      <td>31186339</td>\n",
       "      <td>The nation of Panem consists of a wealthy Capi...</td>\n",
       "      <td>The Hunger Games</td>\n",
       "      <td>{\"/m/03btsm8\": \"Action/Adventure\", \"/m/06n90\":...</td>\n",
       "      <td>[Action/Adventure, Science Fiction, Action, Dr...</td>\n",
       "    </tr>\n",
       "    <tr>\n",
       "      <th>2</th>\n",
       "      <td>20663735</td>\n",
       "      <td>Poovalli Induchoodan  is sentenced for six yea...</td>\n",
       "      <td>Narasimham</td>\n",
       "      <td>{\"/m/04t36\": \"Musical\", \"/m/02kdv5l\": \"Action\"...</td>\n",
       "      <td>[Musical, Action, Drama, Bollywood]</td>\n",
       "    </tr>\n",
       "    <tr>\n",
       "      <th>3</th>\n",
       "      <td>2231378</td>\n",
       "      <td>The Lemon Drop Kid , a New York City swindler,...</td>\n",
       "      <td>The Lemon Drop Kid</td>\n",
       "      <td>{\"/m/06qm3\": \"Screwball comedy\", \"/m/01z4y\": \"...</td>\n",
       "      <td>[Screwball comedy, Comedy]</td>\n",
       "    </tr>\n",
       "    <tr>\n",
       "      <th>4</th>\n",
       "      <td>595909</td>\n",
       "      <td>Seventh-day Adventist Church pastor Michael Ch...</td>\n",
       "      <td>A Cry in the Dark</td>\n",
       "      <td>{\"/m/0lsxr\": \"Crime Fiction\", \"/m/07s9rl0\": \"D...</td>\n",
       "      <td>[Crime Fiction, Drama, Docudrama, World cinema...</td>\n",
       "    </tr>\n",
       "  </tbody>\n",
       "</table>\n",
       "</div>"
      ],
      "text/plain": [
       "   movie_id                                            summary  \\\n",
       "0  23890098  Shlykov, a hard-working taxi driver and Lyosha...   \n",
       "1  31186339  The nation of Panem consists of a wealthy Capi...   \n",
       "2  20663735  Poovalli Induchoodan  is sentenced for six yea...   \n",
       "3   2231378  The Lemon Drop Kid , a New York City swindler,...   \n",
       "4    595909  Seventh-day Adventist Church pastor Michael Ch...   \n",
       "\n",
       "           movie_name                                              genre  \\\n",
       "0          Taxi Blues  {\"/m/07s9rl0\": \"Drama\", \"/m/03q4nz\": \"World ci...   \n",
       "1    The Hunger Games  {\"/m/03btsm8\": \"Action/Adventure\", \"/m/06n90\":...   \n",
       "2          Narasimham  {\"/m/04t36\": \"Musical\", \"/m/02kdv5l\": \"Action\"...   \n",
       "3  The Lemon Drop Kid  {\"/m/06qm3\": \"Screwball comedy\", \"/m/01z4y\": \"...   \n",
       "4   A Cry in the Dark  {\"/m/0lsxr\": \"Crime Fiction\", \"/m/07s9rl0\": \"D...   \n",
       "\n",
       "                                          genre_list  \n",
       "0                              [Drama, World cinema]  \n",
       "1  [Action/Adventure, Science Fiction, Action, Dr...  \n",
       "2                [Musical, Action, Drama, Bollywood]  \n",
       "3                         [Screwball comedy, Comedy]  \n",
       "4  [Crime Fiction, Drama, Docudrama, World cinema...  "
      ]
     },
     "execution_count": 10,
     "metadata": {},
     "output_type": "execute_result"
    }
   ],
   "source": [
    "## Json data handling\n",
    "\n",
    "def json_handling(df,col):\n",
    "    \n",
    "    col_gen = []\n",
    "\n",
    "    for _ in range(df.shape[0]):\n",
    "        sub_line = json.loads(df[col][_])\n",
    "        item = pd.json_normalize(sub_line).values\n",
    "        col_gen.append(list(item[0]))\n",
    "    \n",
    "    return col_gen \n",
    "\n",
    "\n",
    "summary_df['genre_list'] = json_handling(summary_df,col='genre')\n",
    "summary_df.head()"
   ]
  },
  {
   "cell_type": "code",
   "execution_count": null,
   "id": "b03720fb",
   "metadata": {},
   "outputs": [],
   "source": []
  },
  {
   "cell_type": "code",
   "execution_count": 11,
   "id": "cfb947c0",
   "metadata": {},
   "outputs": [
    {
     "name": "stdout",
     "output_type": "stream",
     "text": [
      "Total genre: 363\n"
     ]
    }
   ],
   "source": [
    "### sum genre\n",
    "\n",
    "def sum_genre(df):\n",
    "    objects = []\n",
    "\n",
    "    for _ in range(len(df)):\n",
    "        objects = objects+df[_]\n",
    "    \n",
    "    print(\"Total genre: {}\".format(len(np.unique(objects))))\n",
    "\n",
    "    return objects\n",
    "\n",
    "objects = sum_genre(summary_df['genre_list'])"
   ]
  },
  {
   "cell_type": "code",
   "execution_count": 12,
   "id": "2ae9c5fc",
   "metadata": {},
   "outputs": [
    {
     "data": {
      "text/html": [
       "<div>\n",
       "<style scoped>\n",
       "    .dataframe tbody tr th:only-of-type {\n",
       "        vertical-align: middle;\n",
       "    }\n",
       "\n",
       "    .dataframe tbody tr th {\n",
       "        vertical-align: top;\n",
       "    }\n",
       "\n",
       "    .dataframe thead th {\n",
       "        text-align: right;\n",
       "    }\n",
       "</style>\n",
       "<table border=\"1\" class=\"dataframe\">\n",
       "  <thead>\n",
       "    <tr style=\"text-align: right;\">\n",
       "      <th></th>\n",
       "      <th>genre</th>\n",
       "      <th>freq</th>\n",
       "    </tr>\n",
       "  </thead>\n",
       "  <tbody>\n",
       "    <tr>\n",
       "      <th>0</th>\n",
       "      <td>Drama</td>\n",
       "      <td>19134</td>\n",
       "    </tr>\n",
       "    <tr>\n",
       "      <th>1</th>\n",
       "      <td>Comedy</td>\n",
       "      <td>10467</td>\n",
       "    </tr>\n",
       "    <tr>\n",
       "      <th>2</th>\n",
       "      <td>Romance Film</td>\n",
       "      <td>6666</td>\n",
       "    </tr>\n",
       "    <tr>\n",
       "      <th>3</th>\n",
       "      <td>Thriller</td>\n",
       "      <td>6530</td>\n",
       "    </tr>\n",
       "    <tr>\n",
       "      <th>4</th>\n",
       "      <td>Action</td>\n",
       "      <td>5868</td>\n",
       "    </tr>\n",
       "    <tr>\n",
       "      <th>5</th>\n",
       "      <td>World cinema</td>\n",
       "      <td>5153</td>\n",
       "    </tr>\n",
       "    <tr>\n",
       "      <th>6</th>\n",
       "      <td>Crime Fiction</td>\n",
       "      <td>4275</td>\n",
       "    </tr>\n",
       "    <tr>\n",
       "      <th>7</th>\n",
       "      <td>Horror</td>\n",
       "      <td>4082</td>\n",
       "    </tr>\n",
       "    <tr>\n",
       "      <th>8</th>\n",
       "      <td>Black-and-white</td>\n",
       "      <td>3731</td>\n",
       "    </tr>\n",
       "    <tr>\n",
       "      <th>9</th>\n",
       "      <td>Indie</td>\n",
       "      <td>3668</td>\n",
       "    </tr>\n",
       "    <tr>\n",
       "      <th>10</th>\n",
       "      <td>Action/Adventure</td>\n",
       "      <td>3553</td>\n",
       "    </tr>\n",
       "    <tr>\n",
       "      <th>11</th>\n",
       "      <td>Adventure</td>\n",
       "      <td>3248</td>\n",
       "    </tr>\n",
       "    <tr>\n",
       "      <th>12</th>\n",
       "      <td>Family Film</td>\n",
       "      <td>3219</td>\n",
       "    </tr>\n",
       "    <tr>\n",
       "      <th>13</th>\n",
       "      <td>Short Film</td>\n",
       "      <td>3192</td>\n",
       "    </tr>\n",
       "    <tr>\n",
       "      <th>14</th>\n",
       "      <td>Romantic drama</td>\n",
       "      <td>2572</td>\n",
       "    </tr>\n",
       "  </tbody>\n",
       "</table>\n",
       "</div>"
      ],
      "text/plain": [
       "               genre   freq\n",
       "0              Drama  19134\n",
       "1             Comedy  10467\n",
       "2       Romance Film   6666\n",
       "3           Thriller   6530\n",
       "4             Action   5868\n",
       "5       World cinema   5153\n",
       "6      Crime Fiction   4275\n",
       "7             Horror   4082\n",
       "8    Black-and-white   3731\n",
       "9              Indie   3668\n",
       "10  Action/Adventure   3553\n",
       "11         Adventure   3248\n",
       "12       Family Film   3219\n",
       "13        Short Film   3192\n",
       "14    Romantic drama   2572"
      ]
     },
     "execution_count": 12,
     "metadata": {},
     "output_type": "execute_result"
    }
   ],
   "source": [
    "# Freq genre vision \n",
    "feq_genre_df = pd.DataFrame(nltk.FreqDist(objects),index=[0])\\\n",
    "                .T.sort_values(by=[0],ascending=False)\\\n",
    "                .reset_index().rename(columns={'index':'genre', 0:'freq'})\n",
    "\n",
    "feq_genre_df.head(15)"
   ]
  },
  {
   "cell_type": "code",
   "execution_count": 13,
   "id": "1d4e52c2",
   "metadata": {},
   "outputs": [
    {
     "data": {
      "image/png": "[encoded data removed]",
      "text/plain": [
       "<Figure size 864x1080 with 1 Axes>"
      ]
     },
     "metadata": {
      "needs_background": "light"
     },
     "output_type": "display_data"
    }
   ],
   "source": [
    "## Plotting the firsts 50th of movie genre frequency\n",
    "\n",
    "plt.figure(figsize=(12,15))\n",
    "#sns.color_palette(\"pastel\")\n",
    "ax = sns.barplot(data = feq_genre_df.iloc[:51,:], x = \"freq\", y = \"genre\", palette=\"pastel\")\n",
    "plt.show()\n"
   ]
  },
  {
   "cell_type": "code",
   "execution_count": 14,
   "id": "e37ed20f",
   "metadata": {},
   "outputs": [],
   "source": [
    "def clean_summary_text(text):\n",
    "    # first: remove backslash-apostrophe\n",
    "    text = re.sub(\"\\'\", \"\", text)\n",
    "    \n",
    "    # Second: maintaing only alphabets\n",
    "    text = re.sub(\"[^a-zA-Z]\",\" \", text)\n",
    "\n",
    "    #Third:# remove whitespaces \n",
    "    text = ' '.join(text.split()) \n",
    "    \n",
    "    # convert text to lowercase \n",
    "    text = text.lower() \n",
    "    \n",
    "    return text \n",
    "\n",
    "summary_df['clear_summary'] = summary_df['summary'].apply(lambda x: clean_summary_text(x))"
   ]
  },
  {
   "cell_type": "code",
   "execution_count": 15,
   "id": "240e5d4c",
   "metadata": {},
   "outputs": [],
   "source": [
    "def freq_words(x, terms = 30): \n",
    "  all_words = ' '.join([text for text in x]) \n",
    "  all_words = all_words.split() \n",
    "  fdist = nltk.FreqDist(all_words) \n",
    "  words_df = pd.DataFrame({'word':list(fdist.keys()), 'count':list(fdist.values())}) \n",
    "  \n",
    "  # selecting top 20 most frequent words \n",
    "  d = words_df.nlargest(columns=\"count\", n = terms) \n",
    "  \n",
    "  # visualize words and frequencies\n",
    "  plt.figure(figsize=(12,15)) \n",
    "  ax = sns.barplot(data=d, x= \"count\", y = \"word\", palette = \"crest\") \n",
    "  ax.set(ylabel = 'Word') \n",
    "  plt.show()"
   ]
  },
  {
   "cell_type": "code",
   "execution_count": 16,
   "id": "d3b13271",
   "metadata": {},
   "outputs": [
    {
     "data": {
      "image/png": "[encoded data removed]",
      "text/plain": [
       "<Figure size 864x1080 with 1 Axes>"
      ]
     },
     "metadata": {
      "needs_background": "light"
     },
     "output_type": "display_data"
    }
   ],
   "source": [
    " freq_words(summary_df['clear_summary'], 50)"
   ]
  },
  {
   "cell_type": "markdown",
   "id": "a304f0ec",
   "metadata": {},
   "source": [
    "#### Created a matrix target"
   ]
  },
  {
   "cell_type": "code",
   "execution_count": 36,
   "id": "9a454c60",
   "metadata": {},
   "outputs": [],
   "source": [
    "def created_target(tool_input, df_input, df_output):\n",
    "    \n",
    "    tool_01 = tool_input \n",
    "    tool_01.fit(df_input)\n",
    "\n",
    "    # Extract the target matrix \n",
    "    y = tool_01.transform(df_output)\n",
    "\n",
    "    return y,tool_01 \n",
    "\n",
    "\n",
    "target, convert_target_tool = created_target(MultiLabelBinarizer(), summary_df['genre_list'], summary_df['genre_list'])\n"
   ]
  },
  {
   "cell_type": "markdown",
   "id": "07cd895e",
   "metadata": {},
   "source": [
    "#### Split data"
   ]
  },
  {
   "cell_type": "code",
   "execution_count": 37,
   "id": "6810fc89",
   "metadata": {},
   "outputs": [],
   "source": [
    "x_train, x_test, y_train, y_test = train_test_split(summary_df['clear_summary'],target\n",
    "                                                    ,test_size =0.2, random_state = 9)"
   ]
  },
  {
   "cell_type": "markdown",
   "id": "2e0bd84a",
   "metadata": {},
   "source": [
    "#### Feature Engeenier"
   ]
  },
  {
   "cell_type": "code",
   "execution_count": 38,
   "id": "2cac7045",
   "metadata": {},
   "outputs": [],
   "source": [
    "def fet_eng(tool_fun, df_train, df_test):\n",
    "    fd_convert = tool_fun.fit_transform(df_train)\n",
    "    fd_convert2 = tool_fun.transform(df_test)\n",
    "    return fd_convert, fd_convert2\n",
    "\n",
    "# apply tool tfidf_vectorizer\n",
    "tfidf_vectorizer = TfidfVectorizer(max_df=0.8, max_features=10000)\n",
    "\n",
    "#apply function\n",
    "x_train_tfidf, x_test_tfidf = fet_eng(tfidf_vectorizer, x_train, x_test)"
   ]
  },
  {
   "cell_type": "markdown",
   "id": "043a8f13",
   "metadata": {},
   "source": [
    "#### ML Train"
   ]
  },
  {
   "cell_type": "code",
   "execution_count": 39,
   "id": "82b97c65",
   "metadata": {},
   "outputs": [
    {
     "data": {
      "text/plain": [
       "14651    ibrahim is a year old muslim born in belgium h...\n",
       "11764    miu a fishmonger at the prosperity market beca...\n",
       "41886    an attempt to survey the mysterons planet mars...\n",
       "8340     everyone is employed by the ultra modern dice ...\n",
       "747      sang man cha tae hyun attempts to commit suici...\n",
       "                               ...                        \n",
       "25725    mara is married to vietnam veteran donny who h...\n",
       "5014     a woman dancing provocatively to the enjoyment...\n",
       "22584    the national team of the democratic republic o...\n",
       "501      the movies plot shares a lot in common with gh...\n",
       "20828    the plot revolves around the return of brian w...\n",
       "Name: clear_summary, Length: 33763, dtype: object"
      ]
     },
     "execution_count": 39,
     "metadata": {},
     "output_type": "execute_result"
    }
   ],
   "source": [
    "x_train"
   ]
  },
  {
   "cell_type": "code",
   "execution_count": 40,
   "id": "aa1886fb",
   "metadata": {},
   "outputs": [
    {
     "data": {
      "text/plain": [
       "<33763x10000 sparse matrix of type '<class 'numpy.float64'>'\n",
       "\twith 4473237 stored elements in Compressed Sparse Row format>"
      ]
     },
     "execution_count": 40,
     "metadata": {},
     "output_type": "execute_result"
    }
   ],
   "source": [
    "x_train_tfidf"
   ]
  },
  {
   "cell_type": "code",
   "execution_count": 41,
   "id": "f7964490",
   "metadata": {},
   "outputs": [
    {
     "name": "stderr",
     "output_type": "stream",
     "text": [
      "/home/samuel/anaconda3/envs/nlp_env_001/lib/python3.9/site-packages/sklearn/multiclass.py:77: UserWarning: Label not 56 is present in all training examples.\n",
      "  warnings.warn(\n",
      "/home/samuel/anaconda3/envs/nlp_env_001/lib/python3.9/site-packages/sklearn/multiclass.py:77: UserWarning: Label not 281 is present in all training examples.\n",
      "  warnings.warn(\n",
      "/home/samuel/anaconda3/envs/nlp_env_001/lib/python3.9/site-packages/sklearn/multiclass.py:77: UserWarning: Label not 307 is present in all training examples.\n",
      "  warnings.warn(\n"
     ]
    }
   ],
   "source": [
    "def build_train_alg(model,x,y,):\n",
    "    alg_0 = model\n",
    "    clf = OneVsRestClassifier(alg_0)\n",
    "\n",
    "    #train\n",
    "    clf.fit(x,y)\n",
    "    \n",
    "    return clf\n",
    "\n",
    "model_01 = build_train_alg(LogisticRegression(),x_train_tfidf,y_train)"
   ]
  },
  {
   "cell_type": "code",
   "execution_count": 45,
   "id": "786b69b9",
   "metadata": {},
   "outputs": [],
   "source": [
    "def predict_output(clf,x_test):\n",
    "    output = clf.predict(x_test)\n",
    "    output_prob = clf.predict_proba(x_test)\n",
    "\n",
    "    return output, output_prob\n",
    "\n",
    "output, output_prob = predict_output(model_01,x_test_tfidf)"
   ]
  },
  {
   "cell_type": "code",
   "execution_count": 34,
   "id": "47604760",
   "metadata": {},
   "outputs": [
    {
     "data": {
      "text/plain": [
       "array([0, 0, 1, 0, 0, 1, 0, 0, 0, 0, 0, 0, 0, 0, 0, 0, 0, 0, 0, 0, 0, 0,\n",
       "       0, 0, 0, 0, 0, 0, 0, 0, 0, 0, 0, 0, 0, 0, 0, 0, 0, 0, 0, 0, 0, 0,\n",
       "       0, 0, 0, 0, 0, 0, 0, 0, 0, 0, 0, 0, 0, 0, 0, 0, 0, 0, 0, 0, 0, 0,\n",
       "       0, 0, 0, 0, 0, 0, 0, 0, 0, 0, 0, 0, 0, 0, 0, 0, 0, 0, 0, 0, 0, 0,\n",
       "       0, 0, 0, 0, 0, 0, 0, 0, 0, 0, 0, 0, 0, 0, 0, 0, 0, 0, 0, 0, 0, 0,\n",
       "       0, 0, 0, 0, 0, 0, 0, 0, 0, 0, 0, 0, 0, 0, 0, 0, 0, 0, 0, 0, 0, 0,\n",
       "       0, 0, 0, 0, 0, 0, 0, 0, 0, 0, 0, 0, 0, 0, 0, 0, 0, 0, 0, 0, 0, 0,\n",
       "       0, 0, 0, 0, 0, 0, 0, 0, 0, 0, 0, 0, 0, 0, 0, 0, 0, 0, 0, 0, 0, 0,\n",
       "       0, 0, 0, 0, 0, 0, 0, 0, 0, 0, 0, 0, 0, 0, 0, 0, 0, 0, 0, 0, 0, 0,\n",
       "       0, 0, 0, 0, 0, 0, 0, 0, 0, 0, 0, 0, 0, 0, 0, 0, 0, 0, 0, 0, 0, 0,\n",
       "       0, 0, 0, 0, 0, 0, 0, 0, 0, 0, 0, 0, 0, 0, 0, 0, 0, 0, 0, 0, 0, 0,\n",
       "       0, 0, 0, 0, 0, 0, 0, 0, 0, 0, 0, 0, 0, 0, 0, 0, 0, 0, 0, 0, 0, 0,\n",
       "       0, 0, 0, 0, 0, 0, 0, 0, 0, 0, 0, 0, 0, 0, 0, 0, 0, 0, 0, 0, 0, 0,\n",
       "       0, 0, 0, 0, 0, 0, 0, 0, 0, 0, 0, 0, 0, 0, 0, 0, 0, 0, 0, 0, 0, 0,\n",
       "       0, 0, 0, 0, 0, 0, 0, 0, 0, 0, 0, 0, 0, 0, 0, 0, 0, 0, 0, 0, 0, 0,\n",
       "       0, 0, 0, 0, 0, 0, 0, 0, 0, 0, 0, 0, 0, 1, 0, 0, 0, 0, 0, 0, 0, 0,\n",
       "       0, 0, 0, 0, 0, 0, 0, 0, 0, 0, 0])"
      ]
     },
     "execution_count": 34,
     "metadata": {},
     "output_type": "execute_result"
    }
   ],
   "source": [
    "output[6]"
   ]
  },
  {
   "cell_type": "code",
   "execution_count": 43,
   "metadata": {},
   "outputs": [
    {
     "data": {
      "text/plain": [
       "('Drama',)"
      ]
     },
     "execution_count": 43,
     "metadata": {},
     "output_type": "execute_result"
    }
   ],
   "source": [
    "convert_target_tool.inverse_transform(output)[3]"
   ]
  },
  {
   "cell_type": "code",
   "execution_count": 44,
   "id": "a8ad950f",
   "metadata": {},
   "outputs": [
    {
     "data": {
      "text/plain": [
       "0.3137414896600964"
      ]
     },
     "execution_count": 44,
     "metadata": {},
     "output_type": "execute_result"
    }
   ],
   "source": [
    "f1_score(y_test, output, average=\"micro\")"
   ]
  },
  {
   "cell_type": "markdown",
   "id": "2d3c13a9",
   "metadata": {},
   "source": [
    "x_train"
   ]
  },
  {
   "cell_type": "code",
   "execution_count": 54,
   "id": "013401ee",
   "metadata": {},
   "outputs": [
    {
     "data": {
      "text/plain": [
       "0.4402337093240282"
      ]
     },
     "execution_count": 54,
     "metadata": {},
     "output_type": "execute_result"
    }
   ],
   "source": [
    "# threshold value\n",
    "t = 0.3 \n",
    "\n",
    "y_pred_new = (output_prob >= t).astype(int)\n",
    "\n",
    "f1_score(y_test, y_pred_new, average=\"micro\")"
   ]
  },
  {
   "cell_type": "code",
   "execution_count": null,
   "id": "a6f28825",
   "metadata": {},
   "outputs": [],
   "source": []
  },
  {
   "cell_type": "code",
   "execution_count": null,
   "id": "ece0bf66",
   "metadata": {},
   "outputs": [],
   "source": []
  },
  {
   "cell_type": "code",
   "execution_count": null,
   "id": "3d9bd89a",
   "metadata": {},
   "outputs": [],
   "source": []
  },
  {
   "cell_type": "code",
   "execution_count": null,
   "id": "9671be29",
   "metadata": {},
   "outputs": [],
   "source": []
  },
  {
   "cell_type": "code",
   "execution_count": null,
   "id": "7f9ec0ba",
   "metadata": {},
   "outputs": [],
   "source": []
  },
  {
   "cell_type": "code",
   "execution_count": null,
   "id": "82495d7f",
   "metadata": {},
   "outputs": [],
   "source": []
  },
  {
   "cell_type": "code",
   "execution_count": null,
   "id": "402ace21",
   "metadata": {},
   "outputs": [],
   "source": []
  },
  {
   "cell_type": "code",
   "execution_count": 53,
   "id": "41c8c0a4",
   "metadata": {},
   "outputs": [
    {
     "data": {
      "text/plain": [
       "array([[0, 0, 0, ..., 0, 0, 0],\n",
       "       [0, 0, 0, ..., 0, 0, 0],\n",
       "       [0, 0, 1, ..., 0, 0, 0],\n",
       "       ...,\n",
       "       [0, 0, 0, ..., 0, 0, 0],\n",
       "       [0, 0, 0, ..., 0, 0, 0],\n",
       "       [0, 0, 0, ..., 0, 0, 0]])"
      ]
     },
     "execution_count": 53,
     "metadata": {},
     "output_type": "execute_result"
    }
   ],
   "source": [
    "y_pred_new"
   ]
  },
  {
   "cell_type": "code",
   "execution_count": 34,
   "id": "8f8f576d",
   "metadata": {},
   "outputs": [
    {
     "data": {
      "text/html": [
       "<div>\n",
       "<style scoped>\n",
       "    .dataframe tbody tr th:only-of-type {\n",
       "        vertical-align: middle;\n",
       "    }\n",
       "\n",
       "    .dataframe tbody tr th {\n",
       "        vertical-align: top;\n",
       "    }\n",
       "\n",
       "    .dataframe thead th {\n",
       "        text-align: right;\n",
       "    }\n",
       "</style>\n",
       "<table border=\"1\" class=\"dataframe\">\n",
       "  <thead>\n",
       "    <tr style=\"text-align: right;\">\n",
       "      <th></th>\n",
       "      <th>movie_id</th>\n",
       "      <th>summary</th>\n",
       "      <th>movie_name</th>\n",
       "      <th>genre</th>\n",
       "      <th>genre_list</th>\n",
       "      <th>clear_summary</th>\n",
       "    </tr>\n",
       "  </thead>\n",
       "  <tbody>\n",
       "    <tr>\n",
       "      <th>0</th>\n",
       "      <td>23890098</td>\n",
       "      <td>Shlykov, a hard-working taxi driver and Lyosha...</td>\n",
       "      <td>Taxi Blues</td>\n",
       "      <td>{\"/m/07s9rl0\": \"Drama\", \"/m/03q4nz\": \"World ci...</td>\n",
       "      <td>[Drama, World cinema]</td>\n",
       "      <td>shlykov a hard working taxi driver and lyosha ...</td>\n",
       "    </tr>\n",
       "    <tr>\n",
       "      <th>1</th>\n",
       "      <td>31186339</td>\n",
       "      <td>The nation of Panem consists of a wealthy Capi...</td>\n",
       "      <td>The Hunger Games</td>\n",
       "      <td>{\"/m/03btsm8\": \"Action/Adventure\", \"/m/06n90\":...</td>\n",
       "      <td>[Action/Adventure, Science Fiction, Action, Dr...</td>\n",
       "      <td>the nation of panem consists of a wealthy capi...</td>\n",
       "    </tr>\n",
       "    <tr>\n",
       "      <th>2</th>\n",
       "      <td>20663735</td>\n",
       "      <td>Poovalli Induchoodan  is sentenced for six yea...</td>\n",
       "      <td>Narasimham</td>\n",
       "      <td>{\"/m/04t36\": \"Musical\", \"/m/02kdv5l\": \"Action\"...</td>\n",
       "      <td>[Musical, Action, Drama, Bollywood]</td>\n",
       "      <td>poovalli induchoodan is sentenced for six year...</td>\n",
       "    </tr>\n",
       "    <tr>\n",
       "      <th>3</th>\n",
       "      <td>2231378</td>\n",
       "      <td>The Lemon Drop Kid , a New York City swindler,...</td>\n",
       "      <td>The Lemon Drop Kid</td>\n",
       "      <td>{\"/m/06qm3\": \"Screwball comedy\", \"/m/01z4y\": \"...</td>\n",
       "      <td>[Screwball comedy, Comedy]</td>\n",
       "      <td>the lemon drop kid a new york city swindler is...</td>\n",
       "    </tr>\n",
       "    <tr>\n",
       "      <th>4</th>\n",
       "      <td>595909</td>\n",
       "      <td>Seventh-day Adventist Church pastor Michael Ch...</td>\n",
       "      <td>A Cry in the Dark</td>\n",
       "      <td>{\"/m/0lsxr\": \"Crime Fiction\", \"/m/07s9rl0\": \"D...</td>\n",
       "      <td>[Crime Fiction, Drama, Docudrama, World cinema...</td>\n",
       "      <td>seventh day adventist church pastor michael ch...</td>\n",
       "    </tr>\n",
       "    <tr>\n",
       "      <th>...</th>\n",
       "      <td>...</td>\n",
       "      <td>...</td>\n",
       "      <td>...</td>\n",
       "      <td>...</td>\n",
       "      <td>...</td>\n",
       "      <td>...</td>\n",
       "    </tr>\n",
       "    <tr>\n",
       "      <th>42199</th>\n",
       "      <td>34808485</td>\n",
       "      <td>The story is about Reema , a young Muslim scho...</td>\n",
       "      <td>Oomakkuyil Padumbol</td>\n",
       "      <td>{\"/m/0bj8m2\": \"Children's\"}</td>\n",
       "      <td>[Children's]</td>\n",
       "      <td>the story is about reema a young muslim school...</td>\n",
       "    </tr>\n",
       "    <tr>\n",
       "      <th>42200</th>\n",
       "      <td>1096473</td>\n",
       "      <td>In 1928 Hollywood, director Leo Andreyev  look...</td>\n",
       "      <td>The Last Command</td>\n",
       "      <td>{\"/m/06ppq\": \"Silent film\", \"/m/0219x_\": \"Indi...</td>\n",
       "      <td>[Silent film, Indie, Black-and-white, Period p...</td>\n",
       "      <td>in hollywood director leo andreyev looks throu...</td>\n",
       "    </tr>\n",
       "    <tr>\n",
       "      <th>42201</th>\n",
       "      <td>35102018</td>\n",
       "      <td>American Luthier focuses on Randy Parsons’ tra...</td>\n",
       "      <td>Randy Parsons: American Luthier</td>\n",
       "      <td>{\"/m/02hmvc\": \"Short Film\", \"/m/04rlf\": \"Music...</td>\n",
       "      <td>[Short Film, Music, Biographical film, Documen...</td>\n",
       "      <td>american luthier focuses on randy parsons tran...</td>\n",
       "    </tr>\n",
       "    <tr>\n",
       "      <th>42202</th>\n",
       "      <td>8628195</td>\n",
       "      <td>Abdur Rehman Khan , a middle-aged dry fruit se...</td>\n",
       "      <td>Kabuliwala</td>\n",
       "      <td>{\"/m/07s9rl0\": \"Drama\"}</td>\n",
       "      <td>[Drama]</td>\n",
       "      <td>abdur rehman khan a middle aged dry fruit sell...</td>\n",
       "    </tr>\n",
       "    <tr>\n",
       "      <th>42203</th>\n",
       "      <td>6040782</td>\n",
       "      <td>1940 - Operation Dynamo has just taken place. ...</td>\n",
       "      <td>Dad's Army</td>\n",
       "      <td>{\"/m/01z4y\": \"Comedy\"}</td>\n",
       "      <td>[Comedy]</td>\n",
       "      <td>operation dynamo has just taken place from the...</td>\n",
       "    </tr>\n",
       "  </tbody>\n",
       "</table>\n",
       "<p>42204 rows × 6 columns</p>\n",
       "</div>"
      ],
      "text/plain": [
       "       movie_id                                            summary  \\\n",
       "0      23890098  Shlykov, a hard-working taxi driver and Lyosha...   \n",
       "1      31186339  The nation of Panem consists of a wealthy Capi...   \n",
       "2      20663735  Poovalli Induchoodan  is sentenced for six yea...   \n",
       "3       2231378  The Lemon Drop Kid , a New York City swindler,...   \n",
       "4        595909  Seventh-day Adventist Church pastor Michael Ch...   \n",
       "...         ...                                                ...   \n",
       "42199  34808485  The story is about Reema , a young Muslim scho...   \n",
       "42200   1096473  In 1928 Hollywood, director Leo Andreyev  look...   \n",
       "42201  35102018  American Luthier focuses on Randy Parsons’ tra...   \n",
       "42202   8628195  Abdur Rehman Khan , a middle-aged dry fruit se...   \n",
       "42203   6040782  1940 - Operation Dynamo has just taken place. ...   \n",
       "\n",
       "                            movie_name  \\\n",
       "0                           Taxi Blues   \n",
       "1                     The Hunger Games   \n",
       "2                           Narasimham   \n",
       "3                   The Lemon Drop Kid   \n",
       "4                    A Cry in the Dark   \n",
       "...                                ...   \n",
       "42199              Oomakkuyil Padumbol   \n",
       "42200                 The Last Command   \n",
       "42201  Randy Parsons: American Luthier   \n",
       "42202                       Kabuliwala   \n",
       "42203                       Dad's Army   \n",
       "\n",
       "                                                   genre  \\\n",
       "0      {\"/m/07s9rl0\": \"Drama\", \"/m/03q4nz\": \"World ci...   \n",
       "1      {\"/m/03btsm8\": \"Action/Adventure\", \"/m/06n90\":...   \n",
       "2      {\"/m/04t36\": \"Musical\", \"/m/02kdv5l\": \"Action\"...   \n",
       "3      {\"/m/06qm3\": \"Screwball comedy\", \"/m/01z4y\": \"...   \n",
       "4      {\"/m/0lsxr\": \"Crime Fiction\", \"/m/07s9rl0\": \"D...   \n",
       "...                                                  ...   \n",
       "42199                        {\"/m/0bj8m2\": \"Children's\"}   \n",
       "42200  {\"/m/06ppq\": \"Silent film\", \"/m/0219x_\": \"Indi...   \n",
       "42201  {\"/m/02hmvc\": \"Short Film\", \"/m/04rlf\": \"Music...   \n",
       "42202                            {\"/m/07s9rl0\": \"Drama\"}   \n",
       "42203                             {\"/m/01z4y\": \"Comedy\"}   \n",
       "\n",
       "                                              genre_list  \\\n",
       "0                                  [Drama, World cinema]   \n",
       "1      [Action/Adventure, Science Fiction, Action, Dr...   \n",
       "2                    [Musical, Action, Drama, Bollywood]   \n",
       "3                             [Screwball comedy, Comedy]   \n",
       "4      [Crime Fiction, Drama, Docudrama, World cinema...   \n",
       "...                                                  ...   \n",
       "42199                                       [Children's]   \n",
       "42200  [Silent film, Indie, Black-and-white, Period p...   \n",
       "42201  [Short Film, Music, Biographical film, Documen...   \n",
       "42202                                            [Drama]   \n",
       "42203                                           [Comedy]   \n",
       "\n",
       "                                           clear_summary  \n",
       "0      shlykov a hard working taxi driver and lyosha ...  \n",
       "1      the nation of panem consists of a wealthy capi...  \n",
       "2      poovalli induchoodan is sentenced for six year...  \n",
       "3      the lemon drop kid a new york city swindler is...  \n",
       "4      seventh day adventist church pastor michael ch...  \n",
       "...                                                  ...  \n",
       "42199  the story is about reema a young muslim school...  \n",
       "42200  in hollywood director leo andreyev looks throu...  \n",
       "42201  american luthier focuses on randy parsons tran...  \n",
       "42202  abdur rehman khan a middle aged dry fruit sell...  \n",
       "42203  operation dynamo has just taken place from the...  \n",
       "\n",
       "[42204 rows x 6 columns]"
      ]
     },
     "execution_count": 34,
     "metadata": {},
     "output_type": "execute_result"
    }
   ],
   "source": [
    "summary_df"
   ]
  },
  {
   "cell_type": "code",
   "execution_count": null,
   "id": "a20b4d71",
   "metadata": {},
   "outputs": [],
   "source": []
  },
  {
   "cell_type": "markdown",
   "id": "709238a7",
   "metadata": {},
   "source": [
    "#### Feature engenieer"
   ]
  },
  {
   "cell_type": "code",
   "execution_count": 32,
   "id": "8551e4f4",
   "metadata": {},
   "outputs": [
    {
     "data": {
      "text/plain": [
       "27"
      ]
     },
     "execution_count": 32,
     "metadata": {},
     "output_type": "execute_result"
    }
   ],
   "source": [
    "len(target[0])"
   ]
  },
  {
   "cell_type": "markdown",
   "id": "8b11f7a8",
   "metadata": {},
   "source": [
    "##"
   ]
  },
  {
   "cell_type": "code",
   "execution_count": 21,
   "id": "a51bf19a",
   "metadata": {},
   "outputs": [],
   "source": [
    "\n",
    "stop_words = set(stopwords.words('english'))"
   ]
  },
  {
   "cell_type": "code",
   "execution_count": 22,
   "id": "3aabafca",
   "metadata": {},
   "outputs": [],
   "source": [
    "text = summary_df['clear_summary'][0]\n",
    "no_stopword_text = [w for w in text.split() if not w in stop_words]"
   ]
  },
  {
   "cell_type": "code",
   "execution_count": 24,
   "id": "c349a355",
   "metadata": {},
   "outputs": [
    {
     "data": {
      "text/plain": [
       "['shlykov',\n",
       " 'hard',\n",
       " 'working',\n",
       " 'taxi',\n",
       " 'driver',\n",
       " 'lyosha',\n",
       " 'saxophonist',\n",
       " 'develop',\n",
       " 'bizarre',\n",
       " 'love',\n",
       " 'hate',\n",
       " 'relationship',\n",
       " 'despite',\n",
       " 'prejudices',\n",
       " 'realize',\n",
       " 'arent',\n",
       " 'different']"
      ]
     },
     "execution_count": 24,
     "metadata": {},
     "output_type": "execute_result"
    }
   ],
   "source": [
    "no_stopword_text\n"
   ]
  },
  {
   "cell_type": "code",
   "execution_count": 25,
   "id": "0b465ce6",
   "metadata": {},
   "outputs": [
    {
     "data": {
      "text/plain": [
       "['shlykov',\n",
       " 'a',\n",
       " 'hard',\n",
       " 'working',\n",
       " 'taxi',\n",
       " 'driver',\n",
       " 'and',\n",
       " 'lyosha',\n",
       " 'a',\n",
       " 'saxophonist',\n",
       " 'develop',\n",
       " 'a',\n",
       " 'bizarre',\n",
       " 'love',\n",
       " 'hate',\n",
       " 'relationship',\n",
       " 'and',\n",
       " 'despite',\n",
       " 'their',\n",
       " 'prejudices',\n",
       " 'realize',\n",
       " 'they',\n",
       " 'arent',\n",
       " 'so',\n",
       " 'different',\n",
       " 'after',\n",
       " 'all']"
      ]
     },
     "execution_count": 25,
     "metadata": {},
     "output_type": "execute_result"
    }
   ],
   "source": [
    "summary_df['clear_summary'][0].split()"
   ]
  },
  {
   "cell_type": "code",
   "execution_count": 19,
   "id": "ee4ee516",
   "metadata": {},
   "outputs": [],
   "source": [
    "#https://www.analyticsvidhya.com/blog/2019/04/predicting-movie-genres-nlp-multi-label-classification/"
   ]
  },
  {
   "cell_type": "code",
   "execution_count": null,
   "metadata": {},
   "outputs": [],
   "source": []
  },
  {
   "cell_type": "code",
   "execution_count": null,
   "id": "a9ffafb0",
   "metadata": {},
   "outputs": [],
   "source": []
  },
  {
   "cell_type": "code",
   "execution_count": null,
   "id": "2f1acd50",
   "metadata": {},
   "outputs": [],
   "source": []
  },
  {
   "cell_type": "code",
   "execution_count": null,
   "id": "2e4f119c",
   "metadata": {},
   "outputs": [],
   "source": []
  },
  {
   "cell_type": "code",
   "execution_count": null,
   "id": "a71afd35",
   "metadata": {},
   "outputs": [],
   "source": []
  },
  {
   "cell_type": "code",
   "execution_count": null,
   "id": "05e8cd1b",
   "metadata": {},
   "outputs": [],
   "source": []
  },
  {
   "cell_type": "code",
   "execution_count": null,
   "id": "b4f8b8bb",
   "metadata": {},
   "outputs": [],
   "source": []
  },
  {
   "cell_type": "code",
   "execution_count": null,
   "id": "a8c67383",
   "metadata": {},
   "outputs": [],
   "source": []
  },
  {
   "cell_type": "code",
   "execution_count": null,
   "id": "b9f7f375",
   "metadata": {},
   "outputs": [],
   "source": []
  },
  {
   "cell_type": "code",
   "execution_count": null,
   "id": "c27e4d7c",
   "metadata": {},
   "outputs": [],
   "source": []
  },
  {
   "cell_type": "code",
   "execution_count": 20,
   "id": "19f6794b",
   "metadata": {},
   "outputs": [
    {
     "data": {
      "text/plain": [
       "'Shlykov, a hard-working taxi driver and Lyosha, a saxophonist, develop a bizarre love-hate relationship, and despite their prejudices, realize they arent so different after all.'"
      ]
     },
     "execution_count": 20,
     "metadata": {},
     "output_type": "execute_result"
    }
   ],
   "source": [
    "re.sub(\"\\'\", \"\", summary_df['summary'][0])"
   ]
  },
  {
   "cell_type": "code",
   "execution_count": 21,
   "id": "7948359f",
   "metadata": {},
   "outputs": [
    {
     "data": {
      "text/plain": [
       "'Shlykov  a hard working taxi driver and Lyosha  a saxophonist  develop a bizarre love hate relationship  and despite their prejudices  realize they aren t so different after all '"
      ]
     },
     "execution_count": 21,
     "metadata": {},
     "output_type": "execute_result"
    }
   ],
   "source": [
    "re.sub(\"[^a-zA-Z]\",\" \", summary_df['summary'][0])"
   ]
  },
  {
   "cell_type": "code",
   "execution_count": 22,
   "id": "3aee68fb",
   "metadata": {},
   "outputs": [
    {
     "data": {
      "text/plain": [
       "'Shlykov  a hard working taxi driver and Lyosha  a saxophonist  develop a bizarre love hate relationship  and despite their prejudices  realize they arent so different after all '"
      ]
     },
     "execution_count": 22,
     "metadata": {},
     "output_type": "execute_result"
    }
   ],
   "source": [
    "_ = re.sub(\"\\'\", \"\", summary_df['summary'][0])\n",
    "_ = re.sub(\"[^a-zA-Z]\",\" \", _ )\n",
    "\n",
    "_"
   ]
  },
  {
   "cell_type": "code",
   "execution_count": 23,
   "id": "604d8751",
   "metadata": {},
   "outputs": [],
   "source": [
    "_ = ' '.join(_.split()) "
   ]
  },
  {
   "cell_type": "code",
   "execution_count": 24,
   "id": "f27d42ec",
   "metadata": {},
   "outputs": [
    {
     "data": {
      "text/plain": [
       "'Shlykov a hard working taxi driver and Lyosha a saxophonist develop a bizarre love hate relationship and despite their prejudices realize they arent so different after all'"
      ]
     },
     "execution_count": 24,
     "metadata": {},
     "output_type": "execute_result"
    }
   ],
   "source": [
    "_"
   ]
  },
  {
   "cell_type": "code",
   "execution_count": null,
   "id": "d22949e5",
   "metadata": {},
   "outputs": [],
   "source": []
  },
  {
   "cell_type": "code",
   "execution_count": null,
   "id": "7dab1acc",
   "metadata": {},
   "outputs": [],
   "source": []
  },
  {
   "cell_type": "code",
   "execution_count": null,
   "id": "f18dc1df",
   "metadata": {},
   "outputs": [],
   "source": []
  },
  {
   "cell_type": "code",
   "execution_count": null,
   "id": "646cf46a",
   "metadata": {},
   "outputs": [],
   "source": []
  },
  {
   "cell_type": "code",
   "execution_count": null,
   "id": "bee6d575",
   "metadata": {},
   "outputs": [],
   "source": []
  }
 ],
 "metadata": {
  "interpreter": {
   "hash": "6d5338d9b05a916f8bf787a4c2fb8538ca8eecc35eb0b4ed14346fc417900be2"
  },
  "kernelspec": {
   "display_name": "Python 3.9.12 ('nlp_env_001')",
   "language": "python",
   "name": "python3"
  },
  "language_info": {
   "codemirror_mode": {
    "name": "ipython",
    "version": 3
   },
   "file_extension": ".py",
   "mimetype": "text/x-python",
   "name": "python",
   "nbconvert_exporter": "python",
   "pygments_lexer": "ipython3",
   "version": "3.9.12"
  }
 },
 "nbformat": 4,
 "nbformat_minor": 5
}
